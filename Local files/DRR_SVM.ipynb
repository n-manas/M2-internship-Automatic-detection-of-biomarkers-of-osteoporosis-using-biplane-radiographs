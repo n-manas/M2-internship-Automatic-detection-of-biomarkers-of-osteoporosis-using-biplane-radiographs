{
 "cells": [
  {
   "cell_type": "code",
   "execution_count": null,
   "id": "2eb83b82",
   "metadata": {
    "ExecuteTime": {
     "end_time": "2022-04-26T08:34:43.168242Z",
     "start_time": "2022-04-26T08:34:29.228012Z"
    }
   },
   "outputs": [],
   "source": [
    "### Train SVM\n",
    "\n",
    "#Import libraries\n",
    "import numpy as np\n",
    "import matplotlib.pyplot as plt\n",
    "import sklearn\n",
    "import pandas as pd\n",
    "import seaborn as sns\n",
    "import argparse\n",
    "import os\n",
    "from sklearn.compose import ColumnTransformer\n",
    "from sklearn.datasets import fetch_openml\n",
    "from sklearn.pipeline import Pipeline\n",
    "from sklearn.preprocessing import StandardScaler, OneHotEncoder, label_binarize\n",
    "from sklearn.ensemble import RandomForestClassifier\n",
    "from sklearn.model_selection import train_test_split, GridSearchCV\n",
    "from sklearn.model_selection import GridSearchCV\n",
    "from sklearn.metrics import make_scorer\n",
    "from sklearn.metrics import accuracy_score\n",
    "from sklearn.metrics import recall_score\n",
    "from sklearn.metrics import precision_score\n",
    "from sklearn.metrics import multilabel_confusion_matrix\n",
    "import pickle\n",
    "import logging\n",
    "import traceback\n",
    "\n",
    "# Import features\n",
    "root_path = os.getcwd().replace(\"\\\\\", \"/\") + \"/Processing/CT/\"\n",
    "df = pd.read_excel(root_path + 'In vitro_DRR_features_no_id.xlsx')\n",
    "df.head()\n",
    "param = df.columns\n",
    "\n",
    "# Get ground truth\n",
    "df_truth = pd.read_excel(root_path + \"In vitro_DRR_eq_ground truth.xlsx\")\n",
    "\n",
    "# make X and y\n",
    "X = df.copy()\n",
    "y = df_truth[['Target']]\n",
    "\n",
    "# Standard scaler exceptions\n",
    "exceptions = [\"Vertebrae_L1\",\"Vertebrae_L2\",\"Vertebrae_L3\",\"Vertebrae_L4\",\"Sexe\"]\n",
    "cols = X.columns.difference(exceptions).values\n",
    "\n",
    "numeric_features = X.columns.difference(exceptions).values\n",
    "from sklearn.preprocessing import StandardScaler\n",
    "ct = ColumnTransformer(transformers=[('num', StandardScaler(), numeric_features)], remainder=\"passthrough\")\n",
    "\n",
    "#Define classifier\n",
    "from sklearn.svm import SVC\n",
    "classifier = SVC(kernel='rbf', random_state = 0) # can modify kernel to other types liek linear\n",
    "\n",
    "# make confusion  matrix scorer\n",
    "from sklearn.metrics import make_scorer\n",
    "\n",
    "scoring = {'precision_score': \"precision_weighted\", \"accuracy_score\": make_scorer(accuracy_score), \"balanced_accuracy_score\": \"balanced_accuracy\", \"recall_score\": \"recall_weighted\", \"f1_score\": \"f1_weighted\", \"AUC_score\": \"roc_auc\"} #\"confusion_matrix\": make_scorer(multilabel_confusion_matrix)\n",
    "\n",
    "#Obtain confusion matrix and predictions\n",
    "from sklearn.model_selection import cross_val_predict\n",
    "from sklearn.model_selection import cross_validate\n",
    "from sklearn.metrics import confusion_matrix\n",
    "from sklearn.model_selection import KFold\n",
    "from sklearn.metrics import ConfusionMatrixDisplay\n",
    "\n",
    "#Obtain crossvalidation folds\n",
    "k_fold = KFold(10,shuffle=True, random_state=0)\n",
    "i=1\n",
    "for train_index, test_index in k_fold.split(X):\n",
    "    #Get data for fold\n",
    "    X_train, X_test = X.iloc[train_index,:], X.iloc[test_index,:]\n",
    "    y_train, y_test = y.iloc[train_index,:], y.iloc[test_index,:]\n",
    "    X_train = ct.fit_transform(X_train)\n",
    "    X_test = ct.transform(X_test)\n",
    "    \n",
    "    #Fit SVM classifier\n",
    "    classifier.fit(X_train, y_train.values.ravel())\n",
    "    \n",
    "    #Make predictions on test set\n",
    "    pred = classifier.predict(X_test)\n",
    "\n",
    "    filename = root_path + 'DRR_SVM_rbf_fold_' + str(i) + '.sav'\n",
    "    pickle.dump(classifier, open(filename, 'wb')) #saves classifier\n",
    "    result = pd.DataFrame()# you create new dataframe\n",
    "    result['predictions'] = pred# you create column with values\n",
    "    #result[\"actual\"] = y_test['Target']\n",
    "    result.to_excel(root_path + 'DRR_SVM_rbf_predictions_fold_' + str(i) +  \".xlsx\") \n",
    "    \n",
    "    #Obtain confusion matrix (2 formats)\n",
    "    print(\"Fold :\" + str(i))\n",
    "    print(cm.ravel())\n",
    "    cm_display = ConfusionMatrixDisplay(cm).plot()\n",
    "    \n",
    "    #obtain feature importances\n",
    "    features = list(df.columns)\n",
    "    importances = classifier.coef_.ravel()\n",
    "    f_imp = pd.DataFrame({'feature': features, 'importance': importances})\n",
    "    excel_path = root_path + \"DRR_SVM_rbf_FI_fold_\" + str(i) + \".xlsx\"\n",
    "    results.to_excel(excel_path)\n",
    "    i+=1"
   ]
  },
  {
   "cell_type": "code",
   "execution_count": null,
   "id": "2f4b447e",
   "metadata": {
    "ExecuteTime": {
     "end_time": "2022-04-26T08:40:01.866378Z",
     "start_time": "2022-04-26T08:40:00.196595Z"
    }
   },
   "outputs": [],
   "source": [
    "# obtain average performance scores for 10 folds\n",
    "results = cross_validate(classifier,X.values,y.values.ravel(),cv=10,scoring=scoring,verbose=0)\n",
    "#print(results)\n",
    "\n",
    "#save average performance for 10 folds to excel\n",
    "pd.DataFrame.from_dict(results).to_excel(root_path + 'DRR_SVM_rbf_results.xlsx')"
   ]
  },
  {
   "cell_type": "code",
   "execution_count": null,
   "id": "de666e72",
   "metadata": {},
   "outputs": [],
   "source": []
  }
 ],
 "metadata": {
  "kernelspec": {
   "display_name": "Python 3",
   "language": "python",
   "name": "python3"
  },
  "language_info": {
   "codemirror_mode": {
    "name": "ipython",
    "version": 3
   },
   "file_extension": ".py",
   "mimetype": "text/x-python",
   "name": "python",
   "nbconvert_exporter": "python",
   "pygments_lexer": "ipython3",
   "version": "3.8.8"
  },
  "varInspector": {
   "cols": {
    "lenName": 16,
    "lenType": 16,
    "lenVar": 40
   },
   "kernels_config": {
    "python": {
     "delete_cmd_postfix": "",
     "delete_cmd_prefix": "del ",
     "library": "var_list.py",
     "varRefreshCmd": "print(var_dic_list())"
    },
    "r": {
     "delete_cmd_postfix": ") ",
     "delete_cmd_prefix": "rm(",
     "library": "var_list.r",
     "varRefreshCmd": "cat(var_dic_list()) "
    }
   },
   "types_to_exclude": [
    "module",
    "function",
    "builtin_function_or_method",
    "instance",
    "_Feature"
   ],
   "window_display": false
  }
 },
 "nbformat": 4,
 "nbformat_minor": 5
}
