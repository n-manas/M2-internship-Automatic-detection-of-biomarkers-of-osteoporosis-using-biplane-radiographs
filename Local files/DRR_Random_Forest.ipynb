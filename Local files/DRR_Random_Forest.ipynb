{
 "cells": [
  {
   "cell_type": "code",
   "execution_count": null,
   "id": "9f5fd034",
   "metadata": {
    "ExecuteTime": {
     "end_time": "2022-04-19T12:19:47.725032Z",
     "start_time": "2022-04-19T12:19:35.830132Z"
    }
   },
   "outputs": [],
   "source": [
    "### Train normal forest\n",
    "\n",
    "#Import libraries\n",
    "import numpy as np\n",
    "import matplotlib.pyplot as plt\n",
    "import sklearn\n",
    "import pandas as pd\n",
    "import seaborn as sns\n",
    "import argparse\n",
    "import os\n",
    "from sklearn.compose import ColumnTransformer\n",
    "from sklearn.datasets import fetch_openml\n",
    "from sklearn.pipeline import Pipeline\n",
    "from sklearn.preprocessing import StandardScaler, OneHotEncoder, label_binarize\n",
    "from sklearn.ensemble import RandomForestClassifier\n",
    "from sklearn.model_selection import train_test_split, GridSearchCV\n",
    "from sklearn.model_selection import GridSearchCV\n",
    "from sklearn.metrics import make_scorer\n",
    "from sklearn.metrics import accuracy_score\n",
    "from sklearn.metrics import recall_score\n",
    "from sklearn.metrics import precision_score\n",
    "from sklearn.metrics import multilabel_confusion_matrix\n",
    "import pickle\n",
    "import logging\n",
    "import traceback\n",
    "\n",
    "# Import features\n",
    "root_path = os.getcwd().replace(\"\\\\\", \"/\") + \"/Processing/CT/\"\n",
    "df = pd.read_excel(root_path + 'In vitro_DRR_features_no_id.xlsx')\n",
    "df.head()\n",
    "param = df.columns\n",
    "\n",
    "# Get ground truth\n",
    "df_truth = pd.read_excel(root_path + \"In vitro_DRR_eq_ground truth.xlsx\")\n",
    "\n",
    "# make X and y\n",
    "X = df.copy()\n",
    "y = df_truth[['Target']]\n",
    "\n",
    "# Standard scaler exceptions\n",
    "exceptions = [\"Vertebrae_L1\",\"Vertebrae_L2\",\"Vertebrae_L3\",\"Vertebrae_L4\",\"Sexe\"]\n",
    "cols = X.columns.difference(exceptions).values\n",
    "\n",
    "numeric_features = X.columns.difference(exceptions).values\n",
    "from sklearn.preprocessing import StandardScaler\n",
    "ct = ColumnTransformer(transformers=[('num', StandardScaler(), numeric_features)], remainder=\"passthrough\")\n",
    "\n",
    "#Define classifier with optimized hyperparameter values previously obtained\n",
    "classifier = RandomForestClassifier(min_samples_split=2, min_samples_leaf=47,n_estimators=40,max_leaf_nodes=None,random_state=0)\n",
    "\n",
    "# make confusion  matrix scorer\n",
    "from sklearn.metrics import make_scorer\n",
    "\n",
    "scoring = {'precision_score': \"precision_weighted\", \"accuracy_score\": make_scorer(accuracy_score), \"balanced_accuracy_score\": \"balanced_accuracy\", \"recall_score\": \"recall_weighted\", \"f1_score\": \"f1_weighted\", \"AUC_score\": \"roc_auc\"} #\"confusion_matrix\": make_scorer(multilabel_confusion_matrix)\n",
    "\n",
    "from sklearn.model_selection import cross_val_predict\n",
    "from sklearn.model_selection import cross_validate\n",
    "from sklearn.metrics import confusion_matrix\n",
    "from sklearn.model_selection import KFold\n",
    "from sklearn.metrics import ConfusionMatrixDisplay\n",
    "\n",
    "k_fold = KFold(10,shuffle=True, random_state=0)\n",
    "i=1\n",
    "\n",
    "for train_index, test_index in k_fold.split(X):\n",
    "    #Get data for fold\n",
    "    X_train, X_test = X.iloc[train_index,:], X.iloc[test_index,:]\n",
    "    y_train, y_test = y.iloc[train_index,:], y.iloc[test_index,:]\n",
    "    X_train = ct.fit_transform(X_train)\n",
    "    X_test = ct.transform(X_test)\n",
    "    \n",
    "    #Fit classifier\n",
    "    classifier.fit(X_train, y_train.values.ravel())\n",
    "    \n",
    "    #Make predictions\n",
    "    pred = classifier.predict(X_test)\n",
    "    \n",
    "    #Save model\n",
    "    filename = root_path + 'DRR_RF_fold_' + str(i) + '.sav'\n",
    "    pickle.dump(classifier, open(filename, 'wb')) #save model\n",
    "    \n",
    "    #Save predictions\n",
    "    result = pd.DataFrame()# you create new dataframe\n",
    "    result['predictions'] = pred# you create column with values\n",
    "    result.to_excel(root_path + 'DRR_RF_predictions_fold_' + str(i) +  \".xlsx\") \n",
    "    \n",
    "    #Obtain confusion matrix (2 formats)\n",
    "    cm = confusion_matrix(y_test, classifier.predict(X_test))#.ravel()\n",
    "    print(\"Fold :\" + str(i))\n",
    "    print(cm.ravel())\n",
    "    print(pred)\n",
    "    cm_display = ConfusionMatrixDisplay(cm).plot()\n",
    "    i+=1\n",
    "    \n",
    "#gives scoring averages for 10 folds\n",
    "results = cross_validate(classifier,X,y,cv=10,scoring=scoring,verbose=0)\n",
    "#print(results)\n",
    "\n",
    "#save results to excel\n",
    "pd.DataFrame.from_dict(results).to_excel(root_path + 'DRR_RF_results.xlsx')"
   ]
  }
 ],
 "metadata": {
  "kernelspec": {
   "display_name": "Python 3",
   "language": "python",
   "name": "python3"
  },
  "language_info": {
   "codemirror_mode": {
    "name": "ipython",
    "version": 3
   },
   "file_extension": ".py",
   "mimetype": "text/x-python",
   "name": "python",
   "nbconvert_exporter": "python",
   "pygments_lexer": "ipython3",
   "version": "3.8.8"
  },
  "varInspector": {
   "cols": {
    "lenName": 16,
    "lenType": 16,
    "lenVar": 40
   },
   "kernels_config": {
    "python": {
     "delete_cmd_postfix": "",
     "delete_cmd_prefix": "del ",
     "library": "var_list.py",
     "varRefreshCmd": "print(var_dic_list())"
    },
    "r": {
     "delete_cmd_postfix": ") ",
     "delete_cmd_prefix": "rm(",
     "library": "var_list.r",
     "varRefreshCmd": "cat(var_dic_list()) "
    }
   },
   "types_to_exclude": [
    "module",
    "function",
    "builtin_function_or_method",
    "instance",
    "_Feature"
   ],
   "window_display": false
  }
 },
 "nbformat": 4,
 "nbformat_minor": 5
}
